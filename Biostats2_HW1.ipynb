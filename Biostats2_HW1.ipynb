{
  "nbformat": 4,
  "nbformat_minor": 0,
  "metadata": {
    "colab": {
      "name": "Biostats2-HW1.ipynb",
      "provenance": [],
      "collapsed_sections": [],
      "authorship_tag": "ABX9TyMOyIMkcTSSykHSCeYS4e6h",
      "include_colab_link": true
    },
    "kernelspec": {
      "name": "python3",
      "display_name": "Python 3"
    }
  },
  "cells": [
    {
      "cell_type": "markdown",
      "metadata": {
        "id": "view-in-github",
        "colab_type": "text"
      },
      "source": [
        "<a href=\"https://colab.research.google.com/github/jctan05/g-tube_proj/blob/master/Biostats2_HW1.ipynb\" target=\"_parent\"><img src=\"https://colab.research.google.com/assets/colab-badge.svg\" alt=\"Open In Colab\"/></a>"
      ]
    },
    {
      "cell_type": "code",
      "metadata": {
        "id": "UATjWbQGyNR0",
        "colab_type": "code",
        "colab": {}
      },
      "source": [
        "import pandas as pd\n",
        "import seaborn as sns\n",
        "from scipy import stats\n",
        "import statsmodels.api as sm\n",
        "\n",
        "sns.set('notebook')"
      ],
      "execution_count": 0,
      "outputs": []
    },
    {
      "cell_type": "code",
      "metadata": {
        "id": "xm7815_exmJi",
        "colab_type": "code",
        "colab": {}
      },
      "source": [
        "df = pd.read_csv('SENIC.txt', header= None, delim_whitespace=True)"
      ],
      "execution_count": 0,
      "outputs": []
    },
    {
      "cell_type": "code",
      "metadata": {
        "id": "9ZGZwFQIyMNK",
        "colab_type": "code",
        "colab": {
          "base_uri": "https://localhost:8080/",
          "height": 424
        },
        "outputId": "052f7977-f7ea-4560-cd22-5fe28574f73e"
      },
      "source": [
        "df"
      ],
      "execution_count": 3,
      "outputs": [
        {
          "output_type": "execute_result",
          "data": {
            "text/html": [
              "<div>\n",
              "<style scoped>\n",
              "    .dataframe tbody tr th:only-of-type {\n",
              "        vertical-align: middle;\n",
              "    }\n",
              "\n",
              "    .dataframe tbody tr th {\n",
              "        vertical-align: top;\n",
              "    }\n",
              "\n",
              "    .dataframe thead th {\n",
              "        text-align: right;\n",
              "    }\n",
              "</style>\n",
              "<table border=\"1\" class=\"dataframe\">\n",
              "  <thead>\n",
              "    <tr style=\"text-align: right;\">\n",
              "      <th></th>\n",
              "      <th>0</th>\n",
              "      <th>1</th>\n",
              "      <th>2</th>\n",
              "      <th>3</th>\n",
              "      <th>4</th>\n",
              "      <th>5</th>\n",
              "      <th>6</th>\n",
              "      <th>7</th>\n",
              "      <th>8</th>\n",
              "      <th>9</th>\n",
              "      <th>10</th>\n",
              "      <th>11</th>\n",
              "    </tr>\n",
              "  </thead>\n",
              "  <tbody>\n",
              "    <tr>\n",
              "      <th>0</th>\n",
              "      <td>1</td>\n",
              "      <td>7.13</td>\n",
              "      <td>55.7</td>\n",
              "      <td>4.1</td>\n",
              "      <td>9.0</td>\n",
              "      <td>39.6</td>\n",
              "      <td>279</td>\n",
              "      <td>2</td>\n",
              "      <td>4</td>\n",
              "      <td>207</td>\n",
              "      <td>241</td>\n",
              "      <td>60.0</td>\n",
              "    </tr>\n",
              "    <tr>\n",
              "      <th>1</th>\n",
              "      <td>2</td>\n",
              "      <td>8.82</td>\n",
              "      <td>58.2</td>\n",
              "      <td>1.6</td>\n",
              "      <td>3.8</td>\n",
              "      <td>51.7</td>\n",
              "      <td>80</td>\n",
              "      <td>2</td>\n",
              "      <td>2</td>\n",
              "      <td>51</td>\n",
              "      <td>52</td>\n",
              "      <td>40.0</td>\n",
              "    </tr>\n",
              "    <tr>\n",
              "      <th>2</th>\n",
              "      <td>3</td>\n",
              "      <td>8.34</td>\n",
              "      <td>56.9</td>\n",
              "      <td>2.7</td>\n",
              "      <td>8.1</td>\n",
              "      <td>74.0</td>\n",
              "      <td>107</td>\n",
              "      <td>2</td>\n",
              "      <td>3</td>\n",
              "      <td>82</td>\n",
              "      <td>54</td>\n",
              "      <td>20.0</td>\n",
              "    </tr>\n",
              "    <tr>\n",
              "      <th>3</th>\n",
              "      <td>4</td>\n",
              "      <td>8.95</td>\n",
              "      <td>53.7</td>\n",
              "      <td>5.6</td>\n",
              "      <td>18.9</td>\n",
              "      <td>122.8</td>\n",
              "      <td>147</td>\n",
              "      <td>2</td>\n",
              "      <td>4</td>\n",
              "      <td>53</td>\n",
              "      <td>148</td>\n",
              "      <td>40.0</td>\n",
              "    </tr>\n",
              "    <tr>\n",
              "      <th>4</th>\n",
              "      <td>5</td>\n",
              "      <td>11.20</td>\n",
              "      <td>56.5</td>\n",
              "      <td>5.7</td>\n",
              "      <td>34.5</td>\n",
              "      <td>88.9</td>\n",
              "      <td>180</td>\n",
              "      <td>2</td>\n",
              "      <td>1</td>\n",
              "      <td>134</td>\n",
              "      <td>151</td>\n",
              "      <td>40.0</td>\n",
              "    </tr>\n",
              "    <tr>\n",
              "      <th>...</th>\n",
              "      <td>...</td>\n",
              "      <td>...</td>\n",
              "      <td>...</td>\n",
              "      <td>...</td>\n",
              "      <td>...</td>\n",
              "      <td>...</td>\n",
              "      <td>...</td>\n",
              "      <td>...</td>\n",
              "      <td>...</td>\n",
              "      <td>...</td>\n",
              "      <td>...</td>\n",
              "      <td>...</td>\n",
              "    </tr>\n",
              "    <tr>\n",
              "      <th>108</th>\n",
              "      <td>109</td>\n",
              "      <td>11.80</td>\n",
              "      <td>53.8</td>\n",
              "      <td>5.7</td>\n",
              "      <td>9.1</td>\n",
              "      <td>116.9</td>\n",
              "      <td>571</td>\n",
              "      <td>1</td>\n",
              "      <td>2</td>\n",
              "      <td>441</td>\n",
              "      <td>469</td>\n",
              "      <td>62.9</td>\n",
              "    </tr>\n",
              "    <tr>\n",
              "      <th>109</th>\n",
              "      <td>110</td>\n",
              "      <td>9.50</td>\n",
              "      <td>49.3</td>\n",
              "      <td>5.8</td>\n",
              "      <td>42.0</td>\n",
              "      <td>70.9</td>\n",
              "      <td>98</td>\n",
              "      <td>2</td>\n",
              "      <td>3</td>\n",
              "      <td>68</td>\n",
              "      <td>46</td>\n",
              "      <td>22.9</td>\n",
              "    </tr>\n",
              "    <tr>\n",
              "      <th>110</th>\n",
              "      <td>111</td>\n",
              "      <td>7.70</td>\n",
              "      <td>56.9</td>\n",
              "      <td>4.4</td>\n",
              "      <td>12.2</td>\n",
              "      <td>67.9</td>\n",
              "      <td>129</td>\n",
              "      <td>2</td>\n",
              "      <td>4</td>\n",
              "      <td>85</td>\n",
              "      <td>136</td>\n",
              "      <td>62.9</td>\n",
              "    </tr>\n",
              "    <tr>\n",
              "      <th>111</th>\n",
              "      <td>112</td>\n",
              "      <td>17.94</td>\n",
              "      <td>56.2</td>\n",
              "      <td>5.9</td>\n",
              "      <td>26.4</td>\n",
              "      <td>91.8</td>\n",
              "      <td>835</td>\n",
              "      <td>1</td>\n",
              "      <td>1</td>\n",
              "      <td>791</td>\n",
              "      <td>407</td>\n",
              "      <td>62.9</td>\n",
              "    </tr>\n",
              "    <tr>\n",
              "      <th>112</th>\n",
              "      <td>113</td>\n",
              "      <td>9.41</td>\n",
              "      <td>59.5</td>\n",
              "      <td>3.1</td>\n",
              "      <td>20.6</td>\n",
              "      <td>91.7</td>\n",
              "      <td>29</td>\n",
              "      <td>2</td>\n",
              "      <td>3</td>\n",
              "      <td>20</td>\n",
              "      <td>22</td>\n",
              "      <td>22.9</td>\n",
              "    </tr>\n",
              "  </tbody>\n",
              "</table>\n",
              "<p>113 rows × 12 columns</p>\n",
              "</div>"
            ],
            "text/plain": [
              "      0      1     2    3     4      5    6   7   8    9    10    11\n",
              "0      1   7.13  55.7  4.1   9.0   39.6  279   2   4  207  241  60.0\n",
              "1      2   8.82  58.2  1.6   3.8   51.7   80   2   2   51   52  40.0\n",
              "2      3   8.34  56.9  2.7   8.1   74.0  107   2   3   82   54  20.0\n",
              "3      4   8.95  53.7  5.6  18.9  122.8  147   2   4   53  148  40.0\n",
              "4      5  11.20  56.5  5.7  34.5   88.9  180   2   1  134  151  40.0\n",
              "..   ...    ...   ...  ...   ...    ...  ...  ..  ..  ...  ...   ...\n",
              "108  109  11.80  53.8  5.7   9.1  116.9  571   1   2  441  469  62.9\n",
              "109  110   9.50  49.3  5.8  42.0   70.9   98   2   3   68   46  22.9\n",
              "110  111   7.70  56.9  4.4  12.2   67.9  129   2   4   85  136  62.9\n",
              "111  112  17.94  56.2  5.9  26.4   91.8  835   1   1  791  407  62.9\n",
              "112  113   9.41  59.5  3.1  20.6   91.7   29   2   3   20   22  22.9\n",
              "\n",
              "[113 rows x 12 columns]"
            ]
          },
          "metadata": {
            "tags": []
          },
          "execution_count": 3
        }
      ]
    },
    {
      "cell_type": "code",
      "metadata": {
        "id": "lmTdBRdByOQM",
        "colab_type": "code",
        "colab": {}
      },
      "source": [
        "df.columns = [\"id\", \"los\", \"age\", \"infect\", \"culture\", \"xray\", \"beds\",  \n",
        "                  \"school\", \"region\", \"census\", \"nurses\", \"service\"]\n",
        "df_clean = df"
      ],
      "execution_count": 0,
      "outputs": []
    },
    {
      "cell_type": "markdown",
      "metadata": {
        "id": "djXlT_a3zX22",
        "colab_type": "text"
      },
      "source": [
        "![var desc](https://i.imgur.com/eVDaoLz.png)"
      ]
    },
    {
      "cell_type": "markdown",
      "metadata": {
        "id": "4eXOdWqXz_ew",
        "colab_type": "text"
      },
      "source": [
        "1. Read SENIC.pdf file for description of the SENIC data set. The average length of stay in a hospital (Y) is anticipated to be related to infection risk, available facilities and services, and routine chest X-ray ratio. Assume that the simple linear regression model is appropriate for each of the three predictor variables.\n",
        "\n",
        "    a. Create a table of descriptive statistics (mean, sd, etc…) on the outcome and all three predictor variables. What is the average length of stay among all 113 hospitals?"
      ]
    },
    {
      "cell_type": "code",
      "metadata": {
        "id": "-W9iCJ-SzToT",
        "colab_type": "code",
        "colab": {}
      },
      "source": [
        "# Y = los\n",
        "# X1 = infect\n",
        "# X2 = service\n",
        "# X3 = xray"
      ],
      "execution_count": 0,
      "outputs": []
    },
    {
      "cell_type": "code",
      "metadata": {
        "id": "ZgFImZ2I116Y",
        "colab_type": "code",
        "colab": {
          "base_uri": "https://localhost:8080/",
          "height": 300
        },
        "outputId": "8413c3cf-ec6e-48d7-cb87-0d04d9ad92cb"
      },
      "source": [
        "df[['los', 'infect', 'service', 'xray']].describe()"
      ],
      "execution_count": 6,
      "outputs": [
        {
          "output_type": "execute_result",
          "data": {
            "text/html": [
              "<div>\n",
              "<style scoped>\n",
              "    .dataframe tbody tr th:only-of-type {\n",
              "        vertical-align: middle;\n",
              "    }\n",
              "\n",
              "    .dataframe tbody tr th {\n",
              "        vertical-align: top;\n",
              "    }\n",
              "\n",
              "    .dataframe thead th {\n",
              "        text-align: right;\n",
              "    }\n",
              "</style>\n",
              "<table border=\"1\" class=\"dataframe\">\n",
              "  <thead>\n",
              "    <tr style=\"text-align: right;\">\n",
              "      <th></th>\n",
              "      <th>los</th>\n",
              "      <th>infect</th>\n",
              "      <th>service</th>\n",
              "      <th>xray</th>\n",
              "    </tr>\n",
              "  </thead>\n",
              "  <tbody>\n",
              "    <tr>\n",
              "      <th>count</th>\n",
              "      <td>113.000000</td>\n",
              "      <td>113.000000</td>\n",
              "      <td>113.000000</td>\n",
              "      <td>113.000000</td>\n",
              "    </tr>\n",
              "    <tr>\n",
              "      <th>mean</th>\n",
              "      <td>9.648319</td>\n",
              "      <td>4.354867</td>\n",
              "      <td>43.159292</td>\n",
              "      <td>81.628319</td>\n",
              "    </tr>\n",
              "    <tr>\n",
              "      <th>std</th>\n",
              "      <td>1.911456</td>\n",
              "      <td>1.340908</td>\n",
              "      <td>15.200861</td>\n",
              "      <td>19.363826</td>\n",
              "    </tr>\n",
              "    <tr>\n",
              "      <th>min</th>\n",
              "      <td>6.700000</td>\n",
              "      <td>1.300000</td>\n",
              "      <td>5.700000</td>\n",
              "      <td>39.600000</td>\n",
              "    </tr>\n",
              "    <tr>\n",
              "      <th>25%</th>\n",
              "      <td>8.340000</td>\n",
              "      <td>3.700000</td>\n",
              "      <td>31.400000</td>\n",
              "      <td>69.500000</td>\n",
              "    </tr>\n",
              "    <tr>\n",
              "      <th>50%</th>\n",
              "      <td>9.420000</td>\n",
              "      <td>4.400000</td>\n",
              "      <td>42.900000</td>\n",
              "      <td>82.300000</td>\n",
              "    </tr>\n",
              "    <tr>\n",
              "      <th>75%</th>\n",
              "      <td>10.470000</td>\n",
              "      <td>5.200000</td>\n",
              "      <td>54.300000</td>\n",
              "      <td>94.100000</td>\n",
              "    </tr>\n",
              "    <tr>\n",
              "      <th>max</th>\n",
              "      <td>19.560000</td>\n",
              "      <td>7.800000</td>\n",
              "      <td>80.000000</td>\n",
              "      <td>133.500000</td>\n",
              "    </tr>\n",
              "  </tbody>\n",
              "</table>\n",
              "</div>"
            ],
            "text/plain": [
              "              los      infect     service        xray\n",
              "count  113.000000  113.000000  113.000000  113.000000\n",
              "mean     9.648319    4.354867   43.159292   81.628319\n",
              "std      1.911456    1.340908   15.200861   19.363826\n",
              "min      6.700000    1.300000    5.700000   39.600000\n",
              "25%      8.340000    3.700000   31.400000   69.500000\n",
              "50%      9.420000    4.400000   42.900000   82.300000\n",
              "75%     10.470000    5.200000   54.300000   94.100000\n",
              "max     19.560000    7.800000   80.000000  133.500000"
            ]
          },
          "metadata": {
            "tags": []
          },
          "execution_count": 6
        }
      ]
    },
    {
      "cell_type": "markdown",
      "metadata": {
        "id": "fFVBuWIy2Dag",
        "colab_type": "text"
      },
      "source": [
        "> The average length of stay among all 113 hospitals is **9.648319 days**\n",
        "\n",
        "---\n",
        "\n",
        "b. Produce a scatterplot matrix among the outcome and all three predictor variables. Show histograms on the diagonals of the scatterplot matrix. What do you observe? Comment on your findings.\n",
        "\n",
        "\n",
        "\n"
      ]
    },
    {
      "cell_type": "code",
      "metadata": {
        "id": "Stgfphl21-yc",
        "colab_type": "code",
        "colab": {
          "base_uri": "https://localhost:8080/",
          "height": 455
        },
        "outputId": "96537eef-755c-4fd4-a770-58b4d4aa84a3"
      },
      "source": [
        "sns.jointplot(x=\"infect\", y=\"los\", data=df, color='r')"
      ],
      "execution_count": 7,
      "outputs": [
        {
          "output_type": "execute_result",
          "data": {
            "text/plain": [
              "<seaborn.axisgrid.JointGrid at 0x7fcff7f42a20>"
            ]
          },
          "metadata": {
            "tags": []
          },
          "execution_count": 7
        },
        {
          "output_type": "display_data",
          "data": {
            "image/png": "[encoded data removed]",
            "text/plain": [
              "<Figure size 432x432 with 3 Axes>"
            ]
          },
          "metadata": {
            "tags": []
          }
        }
      ]
    },
    {
      "cell_type": "code",
      "metadata": {
        "id": "r7nRA9Iz3KWx",
        "colab_type": "code",
        "colab": {
          "base_uri": "https://localhost:8080/",
          "height": 455
        },
        "outputId": "fc4230c4-cd55-45e8-a282-3d89e73c1a73"
      },
      "source": [
        "sns.jointplot(x=\"service\", y=\"los\", data=df, color='b')"
      ],
      "execution_count": 8,
      "outputs": [
        {
          "output_type": "execute_result",
          "data": {
            "text/plain": [
              "<seaborn.axisgrid.JointGrid at 0x7fcff55d6400>"
            ]
          },
          "metadata": {
            "tags": []
          },
          "execution_count": 8
        },
        {
          "output_type": "display_data",
          "data": {
            "image/png": "[encoded data removed]",
            "text/plain": [
              "<Figure size 432x432 with 3 Axes>"
            ]
          },
          "metadata": {
            "tags": []
          }
        }
      ]
    },
    {
      "cell_type": "code",
      "metadata": {
        "id": "--i751l53R2S",
        "colab_type": "code",
        "colab": {
          "base_uri": "https://localhost:8080/",
          "height": 455
        },
        "outputId": "77c66b4b-2235-49a7-ed87-8823d62103cd"
      },
      "source": [
        "sns.jointplot(x=\"xray\", y=\"los\", data=df, color = 'g')"
      ],
      "execution_count": 9,
      "outputs": [
        {
          "output_type": "execute_result",
          "data": {
            "text/plain": [
              "<seaborn.axisgrid.JointGrid at 0x7fcff505f0b8>"
            ]
          },
          "metadata": {
            "tags": []
          },
          "execution_count": 9
        },
        {
          "output_type": "display_data",
          "data": {
            "image/png": "[encoded data removed]",
            "text/plain": [
              "<Figure size 432x432 with 3 Axes>"
            ]
          },
          "metadata": {
            "tags": []
          }
        }
      ]
    },
    {
      "cell_type": "markdown",
      "metadata": {
        "id": "sy_s4YzG8eZk",
        "colab_type": "text"
      },
      "source": [
        "> All three predictor variables seem to have a **weak positive linear relationship with the outcome variable.**\n",
        "\n",
        "\n",
        "---\n",
        "\n",
        "c. Show a correlation matrix among the outcome and all three predictor variables. Which predictor variable has the highest correlation with the average length of stay? Are any of correlations significantly different from zero?\n"
      ]
    },
    {
      "cell_type": "code",
      "metadata": {
        "id": "21yFQVMf8k9h",
        "colab_type": "code",
        "colab": {
          "base_uri": "https://localhost:8080/",
          "height": 175
        },
        "outputId": "6eea7705-177b-4540-a551-dfce81990b94"
      },
      "source": [
        "df[['los', 'infect', 'service', 'xray']].corr()"
      ],
      "execution_count": 10,
      "outputs": [
        {
          "output_type": "execute_result",
          "data": {
            "text/html": [
              "<div>\n",
              "<style scoped>\n",
              "    .dataframe tbody tr th:only-of-type {\n",
              "        vertical-align: middle;\n",
              "    }\n",
              "\n",
              "    .dataframe tbody tr th {\n",
              "        vertical-align: top;\n",
              "    }\n",
              "\n",
              "    .dataframe thead th {\n",
              "        text-align: right;\n",
              "    }\n",
              "</style>\n",
              "<table border=\"1\" class=\"dataframe\">\n",
              "  <thead>\n",
              "    <tr style=\"text-align: right;\">\n",
              "      <th></th>\n",
              "      <th>los</th>\n",
              "      <th>infect</th>\n",
              "      <th>service</th>\n",
              "      <th>xray</th>\n",
              "    </tr>\n",
              "  </thead>\n",
              "  <tbody>\n",
              "    <tr>\n",
              "      <th>los</th>\n",
              "      <td>1.000000</td>\n",
              "      <td>0.533444</td>\n",
              "      <td>0.355538</td>\n",
              "      <td>0.382482</td>\n",
              "    </tr>\n",
              "    <tr>\n",
              "      <th>infect</th>\n",
              "      <td>0.533444</td>\n",
              "      <td>1.000000</td>\n",
              "      <td>0.412601</td>\n",
              "      <td>0.453392</td>\n",
              "    </tr>\n",
              "    <tr>\n",
              "      <th>service</th>\n",
              "      <td>0.355538</td>\n",
              "      <td>0.412601</td>\n",
              "      <td>1.000000</td>\n",
              "      <td>0.111928</td>\n",
              "    </tr>\n",
              "    <tr>\n",
              "      <th>xray</th>\n",
              "      <td>0.382482</td>\n",
              "      <td>0.453392</td>\n",
              "      <td>0.111928</td>\n",
              "      <td>1.000000</td>\n",
              "    </tr>\n",
              "  </tbody>\n",
              "</table>\n",
              "</div>"
            ],
            "text/plain": [
              "              los    infect   service      xray\n",
              "los      1.000000  0.533444  0.355538  0.382482\n",
              "infect   0.533444  1.000000  0.412601  0.453392\n",
              "service  0.355538  0.412601  1.000000  0.111928\n",
              "xray     0.382482  0.453392  0.111928  1.000000"
            ]
          },
          "metadata": {
            "tags": []
          },
          "execution_count": 10
        }
      ]
    },
    {
      "cell_type": "code",
      "metadata": {
        "id": "8yfJphoB86Zz",
        "colab_type": "code",
        "colab": {
          "base_uri": "https://localhost:8080/",
          "height": 35
        },
        "outputId": "6190ec72-2deb-4300-be63-9f3ea707a938"
      },
      "source": [
        "stats.pearsonr(df['los'], df['infect'])"
      ],
      "execution_count": 11,
      "outputs": [
        {
          "output_type": "execute_result",
          "data": {
            "text/plain": [
              "(0.5334438309449092, 1.1769611863413603e-09)"
            ]
          },
          "metadata": {
            "tags": []
          },
          "execution_count": 11
        }
      ]
    },
    {
      "cell_type": "code",
      "metadata": {
        "id": "rH5L6fGU-OZv",
        "colab_type": "code",
        "colab": {
          "base_uri": "https://localhost:8080/",
          "height": 35
        },
        "outputId": "809b1cfd-e314-4b2e-8767-532a5733acd7"
      },
      "source": [
        "stats.pearsonr(df['los'], df['service'])"
      ],
      "execution_count": 12,
      "outputs": [
        {
          "output_type": "execute_result",
          "data": {
            "text/plain": [
              "(0.3555379237673245, 0.00011133902905008859)"
            ]
          },
          "metadata": {
            "tags": []
          },
          "execution_count": 12
        }
      ]
    },
    {
      "cell_type": "code",
      "metadata": {
        "id": "R_kHYELY-Uam",
        "colab_type": "code",
        "colab": {
          "base_uri": "https://localhost:8080/",
          "height": 35
        },
        "outputId": "2dde0ca3-f9de-4fd5-8ec3-c03992513678"
      },
      "source": [
        "stats.pearsonr(df['los'], df['xray'])"
      ],
      "execution_count": 13,
      "outputs": [
        {
          "output_type": "execute_result",
          "data": {
            "text/plain": [
              "(0.3824819298637572, 2.9055594558770278e-05)"
            ]
          },
          "metadata": {
            "tags": []
          },
          "execution_count": 13
        }
      ]
    },
    {
      "cell_type": "markdown",
      "metadata": {
        "id": "BjQR5Xz5-gHM",
        "colab_type": "text"
      },
      "source": [
        "> The highest correlation with the average length of stay is infection risk. All three predictor variables are significantly different from 0 (p < 0.05)\n",
        "\n",
        "---\n",
        "\n",
        "Regress average length of stay on each of the three predictor variables. Report the estimated regression equations. Give your interpretation on $\\hat{β}_1$ for each of the equations."
      ]
    },
    {
      "cell_type": "code",
      "metadata": {
        "id": "N0fuvKwY-V9q",
        "colab_type": "code",
        "colab": {
          "base_uri": "https://localhost:8080/",
          "height": 54
        },
        "outputId": "472dab45-53e7-4811-a6aa-839014d31567"
      },
      "source": [
        "sm.OLS(df['los'], df['infect']).fit().params"
      ],
      "execution_count": 14,
      "outputs": [
        {
          "output_type": "execute_result",
          "data": {
            "text/plain": [
              "infect    2.090535\n",
              "dtype: float64"
            ]
          },
          "metadata": {
            "tags": []
          },
          "execution_count": 14
        }
      ]
    },
    {
      "cell_type": "code",
      "metadata": {
        "id": "_Jt1ib_N3XrC",
        "colab_type": "code",
        "colab": {
          "base_uri": "https://localhost:8080/",
          "height": 54
        },
        "outputId": "bfc32baa-a256-4d35-e6a9-3eb84ec08461"
      },
      "source": [
        "sm.OLS(df['los'], df['service']).fit().params"
      ],
      "execution_count": 15,
      "outputs": [
        {
          "output_type": "execute_result",
          "data": {
            "text/plain": [
              "service    0.20397\n",
              "dtype: float64"
            ]
          },
          "metadata": {
            "tags": []
          },
          "execution_count": 15
        }
      ]
    },
    {
      "cell_type": "code",
      "metadata": {
        "id": "d3KVtJBR3uYR",
        "colab_type": "code",
        "colab": {
          "base_uri": "https://localhost:8080/",
          "height": 54
        },
        "outputId": "78c5fe65-3adc-4903-b522-3a8fc9098832"
      },
      "source": [
        "sm.OLS(df['los'], df['xray']).fit().params"
      ],
      "execution_count": 16,
      "outputs": [
        {
          "output_type": "execute_result",
          "data": {
            "text/plain": [
              "xray    0.113949\n",
              "dtype: float64"
            ]
          },
          "metadata": {
            "tags": []
          },
          "execution_count": 16
        }
      ]
    },
    {
      "cell_type": "markdown",
      "metadata": {
        "id": "IFzPvDSt4gpo",
        "colab_type": "text"
      },
      "source": [
        "The $\\hat{β}_1$ for infection risk is **2.09**. The $\\hat{β}_1$ for available facilities and services is **0.20397**. The $\\hat{β}_1$ for routine chest x-rays is **0.113949**.\n",
        "\n",
        "Overall, it seems like infection risk is the greatest predictor for length of hospital stay compared to available facilities and services and routine chest x-rays.\n",
        "\n",
        "\n",
        "\n",
        "---\n",
        "\n",
        "e. Plot the three estimated regression equations and data on separate scatter plots. Does a linear relation appear to provide a good fit for each of the three predictor variables? Are there any observations outside 95% prediction intervals?"
      ]
    },
    {
      "cell_type": "code",
      "metadata": {
        "id": "BZTLtzZb5w9I",
        "colab_type": "code",
        "colab": {
          "base_uri": "https://localhost:8080/",
          "height": 744
        },
        "outputId": "4b1cb77d-6a88-43d0-909e-3ad5909ea599"
      },
      "source": [
        "print(sm.OLS(df['los'], df['infect']).fit().summary())\n",
        "sns.regplot(x=\"infect\", y=\"los\", data=df, color='r')"
      ],
      "execution_count": 17,
      "outputs": [
        {
          "output_type": "stream",
          "text": [
            "                                 OLS Regression Results                                \n",
            "=======================================================================================\n",
            "Dep. Variable:                    los   R-squared (uncentered):                   0.938\n",
            "Model:                            OLS   Adj. R-squared (uncentered):              0.937\n",
            "Method:                 Least Squares   F-statistic:                              1681.\n",
            "Date:                Tue, 14 Jan 2020   Prob (F-statistic):                    2.76e-69\n",
            "Time:                        09:23:10   Log-Likelihood:                         -261.95\n",
            "No. Observations:                 113   AIC:                                      525.9\n",
            "Df Residuals:                     112   BIC:                                      528.6\n",
            "Df Model:                           1                                                  \n",
            "Covariance Type:            nonrobust                                                  \n",
            "==============================================================================\n",
            "                 coef    std err          t      P>|t|      [0.025      0.975]\n",
            "------------------------------------------------------------------------------\n",
            "infect         2.0905      0.051     41.004      0.000       1.990       2.192\n",
            "==============================================================================\n",
            "Omnibus:                        1.849   Durbin-Watson:                   1.777\n",
            "Prob(Omnibus):                  0.397   Jarque-Bera (JB):                1.880\n",
            "Skew:                           0.295   Prob(JB):                        0.391\n",
            "Kurtosis:                       2.775   Cond. No.                         1.00\n",
            "==============================================================================\n",
            "\n",
            "Warnings:\n",
            "[1] Standard Errors assume that the covariance matrix of the errors is correctly specified.\n"
          ],
          "name": "stdout"
        },
        {
          "output_type": "execute_result",
          "data": {
            "text/plain": [
              "<matplotlib.axes._subplots.AxesSubplot at 0x7fcff5095470>"
            ]
          },
          "metadata": {
            "tags": []
          },
          "execution_count": 17
        },
        {
          "output_type": "display_data",
          "data": {
            "image/png": "[encoded data removed]",
            "text/plain": [
              "<Figure size 432x288 with 1 Axes>"
            ]
          },
          "metadata": {
            "tags": []
          }
        }
      ]
    },
    {
      "cell_type": "code",
      "metadata": {
        "id": "VyTZgpr-6dIC",
        "colab_type": "code",
        "colab": {
          "base_uri": "https://localhost:8080/",
          "height": 744
        },
        "outputId": "48e4033e-df03-4a85-de7e-40cc7e5b231a"
      },
      "source": [
        "print(sm.OLS(df['los'], df['service']).fit().summary())\n",
        "sns.regplot(x=\"service\", y=\"los\", data=df, color='b')"
      ],
      "execution_count": 18,
      "outputs": [
        {
          "output_type": "stream",
          "text": [
            "                                 OLS Regression Results                                \n",
            "=======================================================================================\n",
            "Dep. Variable:                    los   R-squared (uncentered):                   0.900\n",
            "Model:                            OLS   Adj. R-squared (uncentered):              0.899\n",
            "Method:                 Least Squares   F-statistic:                              1006.\n",
            "Date:                Tue, 14 Jan 2020   Prob (F-statistic):                    8.67e-58\n",
            "Time:                        09:23:10   Log-Likelihood:                         -288.64\n",
            "No. Observations:                 113   AIC:                                      579.3\n",
            "Df Residuals:                     112   BIC:                                      582.0\n",
            "Df Model:                           1                                                  \n",
            "Covariance Type:            nonrobust                                                  \n",
            "==============================================================================\n",
            "                 coef    std err          t      P>|t|      [0.025      0.975]\n",
            "------------------------------------------------------------------------------\n",
            "service        0.2040      0.006     31.720      0.000       0.191       0.217\n",
            "==============================================================================\n",
            "Omnibus:                        0.081   Durbin-Watson:                   1.824\n",
            "Prob(Omnibus):                  0.961   Jarque-Bera (JB):                0.145\n",
            "Skew:                          -0.062   Prob(JB):                        0.930\n",
            "Kurtosis:                       2.876   Cond. No.                         1.00\n",
            "==============================================================================\n",
            "\n",
            "Warnings:\n",
            "[1] Standard Errors assume that the covariance matrix of the errors is correctly specified.\n"
          ],
          "name": "stdout"
        },
        {
          "output_type": "execute_result",
          "data": {
            "text/plain": [
              "<matplotlib.axes._subplots.AxesSubplot at 0x7fcff4eb1f98>"
            ]
          },
          "metadata": {
            "tags": []
          },
          "execution_count": 18
        },
        {
          "output_type": "display_data",
          "data": {
            "image/png": "[encoded data removed]",
            "text/plain": [
              "<Figure size 432x288 with 1 Axes>"
            ]
          },
          "metadata": {
            "tags": []
          }
        }
      ]
    },
    {
      "cell_type": "code",
      "metadata": {
        "id": "Co9ksi146l6F",
        "colab_type": "code",
        "colab": {
          "base_uri": "https://localhost:8080/",
          "height": 744
        },
        "outputId": "23088467-001b-4222-8bef-3819955bb028"
      },
      "source": [
        "print(sm.OLS(df['los'], df['xray']).fit().summary())\n",
        "sns.regplot(x=\"xray\", y=\"los\", data=df, color='g')"
      ],
      "execution_count": 19,
      "outputs": [
        {
          "output_type": "stream",
          "text": [
            "                                 OLS Regression Results                                \n",
            "=======================================================================================\n",
            "Dep. Variable:                    los   R-squared (uncentered):                   0.944\n",
            "Model:                            OLS   Adj. R-squared (uncentered):              0.944\n",
            "Method:                 Least Squares   F-statistic:                              1905.\n",
            "Date:                Tue, 14 Jan 2020   Prob (F-statistic):                    3.78e-72\n",
            "Time:                        09:23:11   Log-Likelihood:                         -255.30\n",
            "No. Observations:                 113   AIC:                                      512.6\n",
            "Df Residuals:                     112   BIC:                                      515.3\n",
            "Df Model:                           1                                                  \n",
            "Covariance Type:            nonrobust                                                  \n",
            "==============================================================================\n",
            "                 coef    std err          t      P>|t|      [0.025      0.975]\n",
            "------------------------------------------------------------------------------\n",
            "xray           0.1139      0.003     43.650      0.000       0.109       0.119\n",
            "==============================================================================\n",
            "Omnibus:                        3.998   Durbin-Watson:                   1.648\n",
            "Prob(Omnibus):                  0.135   Jarque-Bera (JB):                3.424\n",
            "Skew:                           0.404   Prob(JB):                        0.180\n",
            "Kurtosis:                       3.273   Cond. No.                         1.00\n",
            "==============================================================================\n",
            "\n",
            "Warnings:\n",
            "[1] Standard Errors assume that the covariance matrix of the errors is correctly specified.\n"
          ],
          "name": "stdout"
        },
        {
          "output_type": "execute_result",
          "data": {
            "text/plain": [
              "<matplotlib.axes._subplots.AxesSubplot at 0x7fcff4e2bc50>"
            ]
          },
          "metadata": {
            "tags": []
          },
          "execution_count": 19
        },
        {
          "output_type": "display_data",
          "data": {
            "image/png": "[encoded data removed]",
            "text/plain": [
              "<Figure size 432x288 with 1 Axes>"
            ]
          },
          "metadata": {
            "tags": []
          }
        }
      ]
    },
    {
      "cell_type": "markdown",
      "metadata": {
        "id": "Y-tenINA4ZLA",
        "colab_type": "text"
      },
      "source": [
        "A linear relation appears to be a good fit for all predictors. Additionally, there are some points that lie outside the 95% confidence interval range for all models\n",
        "\n",
        "---\n",
        "\n",
        "Report MSE and R-square for each of the three predictor variables. Which predictor variable leads to the smallest variability around the fitted regression line? Using R2 as the criterion, which predictor variable accounts for the largest variability in length of stay?"
      ]
    },
    {
      "cell_type": "code",
      "metadata": {
        "id": "kLq1uwtg7Yel",
        "colab_type": "code",
        "colab": {}
      },
      "source": [
        "# MSE: https://www.statsmodels.org/dev/generated/statsmodels.regression.linear_model.OLSResults.html\n",
        "# 'mse_resid',  the residual sum of squares divided by the number of degrees of freedom\n",
        "# 'rsquared',\n",
        "def mse_and_r_squared(x, y):\n",
        "    mse = sm.OLS(df[y], df[x]).fit().mse_resid\n",
        "    r2 = sm.OLS(df[y], df[x]).fit().rsquared\n",
        "    return mse, r2\n",
        "\n",
        "m1, r1 = mse_and_r_squared('infect', 'los')\n",
        "m2, r2 = mse_and_r_squared('service', 'los')\n",
        "m3, r3 = mse_and_r_squared('xray', 'los')\n",
        "\n",
        "mlst = [m1, m2, m3]\n",
        "rlst = [r1, r2, r3]\n",
        "\n",
        "R2_df = pd.DataFrame(list(zip(mlst, rlst)), index =['Infection Risk', 'Facilities & Services', 'Chest X-ray Ratio'], columns = ['MSE', 'R2']) "
      ],
      "execution_count": 0,
      "outputs": []
    },
    {
      "cell_type": "code",
      "metadata": {
        "id": "iwjfRB2DAkpK",
        "colab_type": "code",
        "colab": {
          "base_uri": "https://localhost:8080/",
          "height": 112
        },
        "outputId": "31167cf5-3299-4c87-f4b9-3ce39c1c60fa"
      },
      "source": [
        "R2_df.T\n"
      ],
      "execution_count": 21,
      "outputs": [
        {
          "output_type": "execute_result",
          "data": {
            "text/html": [
              "<div>\n",
              "<style scoped>\n",
              "    .dataframe tbody tr th:only-of-type {\n",
              "        vertical-align: middle;\n",
              "    }\n",
              "\n",
              "    .dataframe tbody tr th {\n",
              "        vertical-align: top;\n",
              "    }\n",
              "\n",
              "    .dataframe thead th {\n",
              "        text-align: right;\n",
              "    }\n",
              "</style>\n",
              "<table border=\"1\" class=\"dataframe\">\n",
              "  <thead>\n",
              "    <tr style=\"text-align: right;\">\n",
              "      <th></th>\n",
              "      <th>Infection Risk</th>\n",
              "      <th>Facilities &amp; Services</th>\n",
              "      <th>Chest X-ray Ratio</th>\n",
              "    </tr>\n",
              "  </thead>\n",
              "  <tbody>\n",
              "    <tr>\n",
              "      <th>MSE</th>\n",
              "      <td>6.093983</td>\n",
              "      <td>9.773292</td>\n",
              "      <td>5.417321</td>\n",
              "    </tr>\n",
              "    <tr>\n",
              "      <th>R2</th>\n",
              "      <td>0.937546</td>\n",
              "      <td>0.899838</td>\n",
              "      <td>0.944480</td>\n",
              "    </tr>\n",
              "  </tbody>\n",
              "</table>\n",
              "</div>"
            ],
            "text/plain": [
              "     Infection Risk  Facilities & Services  Chest X-ray Ratio\n",
              "MSE        6.093983               9.773292           5.417321\n",
              "R2         0.937546               0.899838           0.944480"
            ]
          },
          "metadata": {
            "tags": []
          },
          "execution_count": 21
        }
      ]
    },
    {
      "cell_type": "markdown",
      "metadata": {
        "id": "s5KO_l2MB25M",
        "colab_type": "text"
      },
      "source": [
        "It seems like **Chest X-ray Ratio** has the smallest variability around the fitted regression line. According to the R-squared, the Chest X-ray Ratio model also has the largest variability in length of stay as explained by the variable chest x-ray ratio.\n",
        "\n",
        "\n",
        "\n",
        "---\n",
        "g. For each of the three fitted regression models, produce a residual plot against X and a normal probability plot of residuals. Summarize your conclusions. Is linear regression model more appropriate in one case than in the others?\n"
      ]
    },
    {
      "cell_type": "code",
      "metadata": {
        "id": "PUQCuFbuDgjx",
        "colab_type": "code",
        "colab": {
          "base_uri": "https://localhost:8080/",
          "height": 303
        },
        "outputId": "bb7a0b48-ef81-4c7e-9aea-32e72211cc5b"
      },
      "source": [
        "sns.residplot(x=\"infect\", y=\"los\", data=df, color='r')"
      ],
      "execution_count": 22,
      "outputs": [
        {
          "output_type": "execute_result",
          "data": {
            "text/plain": [
              "<matplotlib.axes._subplots.AxesSubplot at 0x7fcff4d78cf8>"
            ]
          },
          "metadata": {
            "tags": []
          },
          "execution_count": 22
        },
        {
          "output_type": "display_data",
          "data": {
            "image/png": "[encoded data removed]",
            "text/plain": [
              "<Figure size 432x288 with 1 Axes>"
            ]
          },
          "metadata": {
            "tags": []
          }
        }
      ]
    },
    {
      "cell_type": "code",
      "metadata": {
        "id": "1PQnFU6rDtMB",
        "colab_type": "code",
        "colab": {
          "base_uri": "https://localhost:8080/",
          "height": 301
        },
        "outputId": "3e1d5cf8-d1ae-4042-843d-88a213563076"
      },
      "source": [
        "# color red\n",
        "trash_tuple = stats.probplot(x=sm.OLS(df['los'], df['infect']).fit().resid, plot=sns.mpl.pyplot, fit=True)"
      ],
      "execution_count": 23,
      "outputs": [
        {
          "output_type": "display_data",
          "data": {
            "image/png": "[encoded data removed]",
            "text/plain": [
              "<Figure size 432x288 with 1 Axes>"
            ]
          },
          "metadata": {
            "tags": []
          }
        }
      ]
    },
    {
      "cell_type": "code",
      "metadata": {
        "id": "XI5YaU_IDpVq",
        "colab_type": "code",
        "colab": {
          "base_uri": "https://localhost:8080/",
          "height": 304
        },
        "outputId": "3fc9c02d-ec01-4d97-c966-e9a565edb9ee"
      },
      "source": [
        "sns.residplot(x=\"service\", y=\"los\", data=df)"
      ],
      "execution_count": 24,
      "outputs": [
        {
          "output_type": "execute_result",
          "data": {
            "text/plain": [
              "<matplotlib.axes._subplots.AxesSubplot at 0x7fcff4d71438>"
            ]
          },
          "metadata": {
            "tags": []
          },
          "execution_count": 24
        },
        {
          "output_type": "display_data",
          "data": {
            "image/png": "[encoded data removed]",
            "text/plain": [
              "<Figure size 432x288 with 1 Axes>"
            ]
          },
          "metadata": {
            "tags": []
          }
        }
      ]
    },
    {
      "cell_type": "code",
      "metadata": {
        "id": "-CWTfsl5Ejpd",
        "colab_type": "code",
        "colab": {
          "base_uri": "https://localhost:8080/",
          "height": 301
        },
        "outputId": "cd71f1d5-4704-4cda-aa1f-4934f163edfd"
      },
      "source": [
        "trash_tuple = stats.probplot(x=sm.OLS(df['los'], df['service']).fit().resid, plot=sns.mpl.pyplot, fit=True)"
      ],
      "execution_count": 25,
      "outputs": [
        {
          "output_type": "display_data",
          "data": {
            "image/png": "[encoded data removed]",
            "text/plain": [
              "<Figure size 432x288 with 1 Axes>"
            ]
          },
          "metadata": {
            "tags": []
          }
        }
      ]
    },
    {
      "cell_type": "code",
      "metadata": {
        "id": "yAvR9BDR7cI8",
        "colab_type": "code",
        "colab": {
          "base_uri": "https://localhost:8080/",
          "height": 303
        },
        "outputId": "fdc51191-8122-4986-90c2-98ec1ebfd9be"
      },
      "source": [
        "sns.residplot(x=\"xray\", y=\"los\", data=df, color = 'g')"
      ],
      "execution_count": 26,
      "outputs": [
        {
          "output_type": "execute_result",
          "data": {
            "text/plain": [
              "<matplotlib.axes._subplots.AxesSubplot at 0x7fcff3a01eb8>"
            ]
          },
          "metadata": {
            "tags": []
          },
          "execution_count": 26
        },
        {
          "output_type": "display_data",
          "data": {
            "image/png": "[encoded data removed]",
            "text/plain": [
              "<Figure size 432x288 with 1 Axes>"
            ]
          },
          "metadata": {
            "tags": []
          }
        }
      ]
    },
    {
      "cell_type": "code",
      "metadata": {
        "id": "329Fs5l7En0R",
        "colab_type": "code",
        "colab": {
          "base_uri": "https://localhost:8080/",
          "height": 301
        },
        "outputId": "5438ce51-fef9-4313-f51d-f37cf0bc706a"
      },
      "source": [
        "# color green\n",
        "trash_tuple = stats.probplot(x=sm.OLS(df['los'], df['xray']).fit().resid, plot=sns.mpl.pyplot, fit=True)"
      ],
      "execution_count": 27,
      "outputs": [
        {
          "output_type": "display_data",
          "data": {
            "image/png": "[encoded data removed]",
            "text/plain": [
              "<Figure size 432x288 with 1 Axes>"
            ]
          },
          "metadata": {
            "tags": []
          }
        }
      ]
    },
    {
      "cell_type": "markdown",
      "metadata": {
        "id": "D2cLKnKCFEq_",
        "colab_type": "text"
      },
      "source": [
        "It seems like the chest x-ray predictor variable is the most appropriate variable in this case because most of the points in the residual plot as well as the probability plot show properties that is expected from a normal distribution.\n",
        "\n",
        "\n",
        "---\n",
        "\n",
        "\n",
        "h. Regress average length of stay on each of the three predictor variables after excluding IDs 47 and 112. Report MSE and R-square for each of the three predictor variables again. How did MSE and R-square change after exclusion?"
      ]
    },
    {
      "cell_type": "code",
      "metadata": {
        "id": "IjggsV_UF1yD",
        "colab_type": "code",
        "colab": {}
      },
      "source": [
        "# Exclude two IDs\n",
        "\n",
        "df = df[df['id'] != 47]\n",
        "df = df[df['id'] != 112]"
      ],
      "execution_count": 0,
      "outputs": []
    },
    {
      "cell_type": "code",
      "metadata": {
        "id": "F5gaSwHHHBod",
        "colab_type": "code",
        "colab": {}
      },
      "source": [
        "# Will overwrite previous table if code block is run again\n",
        "\n",
        "m1, r1 = mse_and_r_squared('infect', 'los')\n",
        "m2, r2 = mse_and_r_squared('service', 'los')\n",
        "m3, r3 = mse_and_r_squared('xray', 'los')\n",
        "\n",
        "mlst = [m1, m2, m3]\n",
        "rlst = [r1, r2, r3]\n",
        "\n",
        "R2_df = pd.DataFrame(list(zip(mlst, rlst)), index =['Infection Risk', 'Facilities & Services', 'Chest X-ray Ratio'], columns = ['MSE', 'R2']) "
      ],
      "execution_count": 0,
      "outputs": []
    },
    {
      "cell_type": "code",
      "metadata": {
        "id": "T7pC7AYzHXa_",
        "colab_type": "code",
        "colab": {
          "base_uri": "https://localhost:8080/",
          "height": 112
        },
        "outputId": "0fe8fb7d-f7a5-4c5f-a80f-caabdd7fb344"
      },
      "source": [
        "R2_df.T"
      ],
      "execution_count": 30,
      "outputs": [
        {
          "output_type": "execute_result",
          "data": {
            "text/html": [
              "<div>\n",
              "<style scoped>\n",
              "    .dataframe tbody tr th:only-of-type {\n",
              "        vertical-align: middle;\n",
              "    }\n",
              "\n",
              "    .dataframe tbody tr th {\n",
              "        vertical-align: top;\n",
              "    }\n",
              "\n",
              "    .dataframe thead th {\n",
              "        text-align: right;\n",
              "    }\n",
              "</style>\n",
              "<table border=\"1\" class=\"dataframe\">\n",
              "  <thead>\n",
              "    <tr style=\"text-align: right;\">\n",
              "      <th></th>\n",
              "      <th>Infection Risk</th>\n",
              "      <th>Facilities &amp; Services</th>\n",
              "      <th>Chest X-ray Ratio</th>\n",
              "    </tr>\n",
              "  </thead>\n",
              "  <tbody>\n",
              "    <tr>\n",
              "      <th>MSE</th>\n",
              "      <td>5.574201</td>\n",
              "      <td>8.940173</td>\n",
              "      <td>4.586472</td>\n",
              "    </tr>\n",
              "    <tr>\n",
              "      <th>R2</th>\n",
              "      <td>0.940027</td>\n",
              "      <td>0.903812</td>\n",
              "      <td>0.950654</td>\n",
              "    </tr>\n",
              "  </tbody>\n",
              "</table>\n",
              "</div>"
            ],
            "text/plain": [
              "     Infection Risk  Facilities & Services  Chest X-ray Ratio\n",
              "MSE        5.574201               8.940173           4.586472\n",
              "R2         0.940027               0.903812           0.950654"
            ]
          },
          "metadata": {
            "tags": []
          },
          "execution_count": 30
        }
      ]
    },
    {
      "cell_type": "markdown",
      "metadata": {
        "id": "38OjyJD0HrU1",
        "colab_type": "text"
      },
      "source": [
        "MSE decreased for all models, and R2 increased all models."
      ]
    },
    {
      "cell_type": "code",
      "metadata": {
        "id": "7vUIku8eHcC7",
        "colab_type": "code",
        "colab": {
          "base_uri": "https://localhost:8080/",
          "height": 303
        },
        "outputId": "89306f1c-e408-4f95-84e7-2d54709d08b1"
      },
      "source": [
        "sns.residplot(x=\"infect\", y=\"los\", data=df, color='r')"
      ],
      "execution_count": 31,
      "outputs": [
        {
          "output_type": "execute_result",
          "data": {
            "text/plain": [
              "<matplotlib.axes._subplots.AxesSubplot at 0x7fcff3910a20>"
            ]
          },
          "metadata": {
            "tags": []
          },
          "execution_count": 31
        },
        {
          "output_type": "display_data",
          "data": {
            "image/png": "[encoded data removed]",
            "text/plain": [
              "<Figure size 432x288 with 1 Axes>"
            ]
          },
          "metadata": {
            "tags": []
          }
        }
      ]
    },
    {
      "cell_type": "code",
      "metadata": {
        "id": "UARnWvoeIVsU",
        "colab_type": "code",
        "colab": {
          "base_uri": "https://localhost:8080/",
          "height": 304
        },
        "outputId": "882df2bb-24f0-4307-e17e-bbf8b7084cb9"
      },
      "source": [
        "sns.residplot(x=\"service\", y=\"los\", data=df)"
      ],
      "execution_count": 32,
      "outputs": [
        {
          "output_type": "execute_result",
          "data": {
            "text/plain": [
              "<matplotlib.axes._subplots.AxesSubplot at 0x7fcff3894e80>"
            ]
          },
          "metadata": {
            "tags": []
          },
          "execution_count": 32
        },
        {
          "output_type": "display_data",
          "data": {
            "image/png": "[encoded data removed]",
            "text/plain": [
              "<Figure size 432x288 with 1 Axes>"
            ]
          },
          "metadata": {
            "tags": []
          }
        }
      ]
    },
    {
      "cell_type": "code",
      "metadata": {
        "id": "KLy0JnbXIaGz",
        "colab_type": "code",
        "colab": {
          "base_uri": "https://localhost:8080/",
          "height": 303
        },
        "outputId": "4cfbbf2f-e090-4408-d9c1-0e35258ea5d1"
      },
      "source": [
        "sns.residplot(x=\"xray\", y=\"los\", data=df, color='g')"
      ],
      "execution_count": 33,
      "outputs": [
        {
          "output_type": "execute_result",
          "data": {
            "text/plain": [
              "<matplotlib.axes._subplots.AxesSubplot at 0x7fcff382a860>"
            ]
          },
          "metadata": {
            "tags": []
          },
          "execution_count": 33
        },
        {
          "output_type": "display_data",
          "data": {
            "image/png": "[encoded data removed]",
            "text/plain": [
              "<Figure size 432x288 with 1 Axes>"
            ]
          },
          "metadata": {
            "tags": []
          }
        }
      ]
    },
    {
      "cell_type": "markdown",
      "metadata": {
        "id": "-Cwh4vjEJUrp",
        "colab_type": "text"
      },
      "source": [
        "The residuals look much better with the removal of outliers. Additionally, MSE decreased and R squared increased due to the removal of outliers as well. The removal of outliers serves to make our model stronger.\n",
        "\n",
        "---\n",
        "Refer to the SENIC data set. We are now interested in how the average length of stay in a hospital (Y) is related to infection risk (X) in each geographic region.\n",
        "\n",
        "a. Produce a frequency table on geographic region and report relative frequencies of four geographical regions. Also produce boxplot by region. Are there any outliers? If any, try identifying IDs of those possible outliers and which regions they belong to.\n"
      ]
    },
    {
      "cell_type": "code",
      "metadata": {
        "id": "DUaHH-fqJgw5",
        "colab_type": "code",
        "colab": {
          "base_uri": "https://localhost:8080/",
          "height": 206
        },
        "outputId": "8d395dea-5271-4376-9001-e2c997f77e7e"
      },
      "source": [
        "# Frequency Table\n",
        "df_clean[['id', 'region']].groupby('region').count()"
      ],
      "execution_count": 34,
      "outputs": [
        {
          "output_type": "execute_result",
          "data": {
            "text/html": [
              "<div>\n",
              "<style scoped>\n",
              "    .dataframe tbody tr th:only-of-type {\n",
              "        vertical-align: middle;\n",
              "    }\n",
              "\n",
              "    .dataframe tbody tr th {\n",
              "        vertical-align: top;\n",
              "    }\n",
              "\n",
              "    .dataframe thead th {\n",
              "        text-align: right;\n",
              "    }\n",
              "</style>\n",
              "<table border=\"1\" class=\"dataframe\">\n",
              "  <thead>\n",
              "    <tr style=\"text-align: right;\">\n",
              "      <th></th>\n",
              "      <th>id</th>\n",
              "    </tr>\n",
              "    <tr>\n",
              "      <th>region</th>\n",
              "      <th></th>\n",
              "    </tr>\n",
              "  </thead>\n",
              "  <tbody>\n",
              "    <tr>\n",
              "      <th>1</th>\n",
              "      <td>28</td>\n",
              "    </tr>\n",
              "    <tr>\n",
              "      <th>2</th>\n",
              "      <td>32</td>\n",
              "    </tr>\n",
              "    <tr>\n",
              "      <th>3</th>\n",
              "      <td>37</td>\n",
              "    </tr>\n",
              "    <tr>\n",
              "      <th>4</th>\n",
              "      <td>16</td>\n",
              "    </tr>\n",
              "  </tbody>\n",
              "</table>\n",
              "</div>"
            ],
            "text/plain": [
              "        id\n",
              "region    \n",
              "1       28\n",
              "2       32\n",
              "3       37\n",
              "4       16"
            ]
          },
          "metadata": {
            "tags": []
          },
          "execution_count": 34
        }
      ]
    },
    {
      "cell_type": "code",
      "metadata": {
        "id": "PMA_r2K_JvN6",
        "colab_type": "code",
        "colab": {
          "base_uri": "https://localhost:8080/",
          "height": 206
        },
        "outputId": "4ea3bcca-ec59-48b7-d318-509e9fa9fa10"
      },
      "source": [
        "# Relative Frequency \n",
        "(df_clean[['id', 'region']].groupby('region').count() / len(df_clean)) * 100"
      ],
      "execution_count": 35,
      "outputs": [
        {
          "output_type": "execute_result",
          "data": {
            "text/html": [
              "<div>\n",
              "<style scoped>\n",
              "    .dataframe tbody tr th:only-of-type {\n",
              "        vertical-align: middle;\n",
              "    }\n",
              "\n",
              "    .dataframe tbody tr th {\n",
              "        vertical-align: top;\n",
              "    }\n",
              "\n",
              "    .dataframe thead th {\n",
              "        text-align: right;\n",
              "    }\n",
              "</style>\n",
              "<table border=\"1\" class=\"dataframe\">\n",
              "  <thead>\n",
              "    <tr style=\"text-align: right;\">\n",
              "      <th></th>\n",
              "      <th>id</th>\n",
              "    </tr>\n",
              "    <tr>\n",
              "      <th>region</th>\n",
              "      <th></th>\n",
              "    </tr>\n",
              "  </thead>\n",
              "  <tbody>\n",
              "    <tr>\n",
              "      <th>1</th>\n",
              "      <td>24.778761</td>\n",
              "    </tr>\n",
              "    <tr>\n",
              "      <th>2</th>\n",
              "      <td>28.318584</td>\n",
              "    </tr>\n",
              "    <tr>\n",
              "      <th>3</th>\n",
              "      <td>32.743363</td>\n",
              "    </tr>\n",
              "    <tr>\n",
              "      <th>4</th>\n",
              "      <td>14.159292</td>\n",
              "    </tr>\n",
              "  </tbody>\n",
              "</table>\n",
              "</div>"
            ],
            "text/plain": [
              "               id\n",
              "region           \n",
              "1       24.778761\n",
              "2       28.318584\n",
              "3       32.743363\n",
              "4       14.159292"
            ]
          },
          "metadata": {
            "tags": []
          },
          "execution_count": 35
        }
      ]
    },
    {
      "cell_type": "code",
      "metadata": {
        "id": "UuPccXLhKfR0",
        "colab_type": "code",
        "colab": {
          "base_uri": "https://localhost:8080/",
          "height": 304
        },
        "outputId": "8fea8357-e9ae-45b9-8703-45847ed745a7"
      },
      "source": [
        "sns.boxplot(x=\"region\", y=\"los\", data=df_clean)"
      ],
      "execution_count": 36,
      "outputs": [
        {
          "output_type": "execute_result",
          "data": {
            "text/plain": [
              "<matplotlib.axes._subplots.AxesSubplot at 0x7fcff377b4e0>"
            ]
          },
          "metadata": {
            "tags": []
          },
          "execution_count": 36
        },
        {
          "output_type": "display_data",
          "data": {
            "image/png": "[encoded data removed]",
            "text/plain": [
              "<Figure size 432x288 with 1 Axes>"
            ]
          },
          "metadata": {
            "tags": []
          }
        }
      ]
    },
    {
      "cell_type": "code",
      "metadata": {
        "id": "wlqWJm_GKv0X",
        "colab_type": "code",
        "colab": {}
      },
      "source": [
        "# Boxplot says outliers only lie in region 1 above the upper quantile so that's all I'll need\n",
        "\n",
        "def return_upper_fence(df_in, col_name):\n",
        "    q1 = df_in[col_name].quantile(0.25)\n",
        "    q3 = df_in[col_name].quantile(0.75)\n",
        "    iqr = q3-q1 #Interquartile range\n",
        "    fence_low  = q1-1.5*iqr\n",
        "    fence_high = q3+1.5*iqr\n",
        "    return fence_high"
      ],
      "execution_count": 0,
      "outputs": []
    },
    {
      "cell_type": "code",
      "metadata": {
        "id": "c-WQJCX4MSfC",
        "colab_type": "code",
        "colab": {
          "base_uri": "https://localhost:8080/",
          "height": 72
        },
        "outputId": "655c3722-4c00-4ccb-ed63-a853ca6c4783"
      },
      "source": [
        "fence_high = return_upper_fence(df_clean.loc[df_clean['region'] == 1], 'los')\n",
        "\n",
        "df_clean.loc[df_clean['region'] == 1][df_clean['los']>fence_high].index.tolist()"
      ],
      "execution_count": 38,
      "outputs": [
        {
          "output_type": "stream",
          "text": [
            "/usr/local/lib/python3.6/dist-packages/ipykernel_launcher.py:3: UserWarning: Boolean Series key will be reindexed to match DataFrame index.\n",
            "  This is separate from the ipykernel package so we can avoid doing imports until\n"
          ],
          "name": "stderr"
        },
        {
          "output_type": "execute_result",
          "data": {
            "text/plain": [
              "[46, 111]"
            ]
          },
          "metadata": {
            "tags": []
          },
          "execution_count": 38
        }
      ]
    },
    {
      "cell_type": "markdown",
      "metadata": {
        "id": "1qLSYvNqNusO",
        "colab_type": "text"
      },
      "source": [
        "The possible outliers belong to Region 1, with IDs 46 and 111. Though we don't know if these are true outliers, we will keep them in the dataset for now.\n",
        "\n",
        "\n",
        "---\n",
        "\n",
        "\n",
        "b. Conduct region-stratified regression analysis, that is, regress average length of stay (Y) against infection risk (X) for each geographic region. Report the estimated regression equations. Are the estimated regression equations similar for the four regions? Describe your findings."
      ]
    },
    {
      "cell_type": "code",
      "metadata": {
        "id": "0IF-bfk7Mht0",
        "colab_type": "code",
        "colab": {}
      },
      "source": [
        "df1 = df_clean.loc[df_clean['region'] == 1]\n",
        "df2 = df_clean.loc[df_clean['region'] == 2]\n",
        "df3 = df_clean.loc[df_clean['region'] == 3]\n",
        "df4 = df_clean.loc[df_clean['region'] == 4]"
      ],
      "execution_count": 0,
      "outputs": []
    },
    {
      "cell_type": "code",
      "metadata": {
        "id": "7_7jdoPPMiOC",
        "colab_type": "code",
        "colab": {
          "base_uri": "https://localhost:8080/",
          "height": 458
        },
        "outputId": "b1ef3c81-6803-44a1-fe87-2cca068147c2"
      },
      "source": [
        "print(sm.OLS(df1['los'], df1['infect']).fit().summary())"
      ],
      "execution_count": 40,
      "outputs": [
        {
          "output_type": "stream",
          "text": [
            "                                 OLS Regression Results                                \n",
            "=======================================================================================\n",
            "Dep. Variable:                    los   R-squared (uncentered):                   0.959\n",
            "Model:                            OLS   Adj. R-squared (uncentered):              0.958\n",
            "Method:                 Least Squares   F-statistic:                              632.4\n",
            "Date:                Tue, 14 Jan 2020   Prob (F-statistic):                    2.85e-20\n",
            "Time:                        09:23:15   Log-Likelihood:                         -63.121\n",
            "No. Observations:                  28   AIC:                                      128.2\n",
            "Df Residuals:                      27   BIC:                                      129.6\n",
            "Df Model:                           1                                                  \n",
            "Covariance Type:            nonrobust                                                  \n",
            "==============================================================================\n",
            "                 coef    std err          t      P>|t|      [0.025      0.975]\n",
            "------------------------------------------------------------------------------\n",
            "infect         2.2236      0.088     25.148      0.000       2.042       2.405\n",
            "==============================================================================\n",
            "Omnibus:                        0.920   Durbin-Watson:                   1.604\n",
            "Prob(Omnibus):                  0.631   Jarque-Bera (JB):                0.170\n",
            "Skew:                          -0.093   Prob(JB):                        0.919\n",
            "Kurtosis:                       3.333   Cond. No.                         1.00\n",
            "==============================================================================\n",
            "\n",
            "Warnings:\n",
            "[1] Standard Errors assume that the covariance matrix of the errors is correctly specified.\n"
          ],
          "name": "stdout"
        }
      ]
    },
    {
      "cell_type": "code",
      "metadata": {
        "id": "qIjYhivdO5Te",
        "colab_type": "code",
        "colab": {
          "base_uri": "https://localhost:8080/",
          "height": 458
        },
        "outputId": "711457a5-384a-4082-95b9-0365937cd100"
      },
      "source": [
        "print(sm.OLS(df2['los'], df2['infect']).fit().summary())"
      ],
      "execution_count": 41,
      "outputs": [
        {
          "output_type": "stream",
          "text": [
            "                                 OLS Regression Results                                \n",
            "=======================================================================================\n",
            "Dep. Variable:                    los   R-squared (uncentered):                   0.940\n",
            "Model:                            OLS   Adj. R-squared (uncentered):              0.938\n",
            "Method:                 Least Squares   F-statistic:                              487.1\n",
            "Date:                Tue, 14 Jan 2020   Prob (F-statistic):                    1.61e-20\n",
            "Time:                        09:23:15   Log-Likelihood:                         -73.233\n",
            "No. Observations:                  32   AIC:                                      148.5\n",
            "Df Residuals:                      31   BIC:                                      149.9\n",
            "Df Model:                           1                                                  \n",
            "Covariance Type:            nonrobust                                                  \n",
            "==============================================================================\n",
            "                 coef    std err          t      P>|t|      [0.025      0.975]\n",
            "------------------------------------------------------------------------------\n",
            "infect         2.0618      0.093     22.071      0.000       1.871       2.252\n",
            "==============================================================================\n",
            "Omnibus:                        3.179   Durbin-Watson:                   2.115\n",
            "Prob(Omnibus):                  0.204   Jarque-Bera (JB):                1.989\n",
            "Skew:                           0.580   Prob(JB):                        0.370\n",
            "Kurtosis:                       3.380   Cond. No.                         1.00\n",
            "==============================================================================\n",
            "\n",
            "Warnings:\n",
            "[1] Standard Errors assume that the covariance matrix of the errors is correctly specified.\n"
          ],
          "name": "stdout"
        }
      ]
    },
    {
      "cell_type": "code",
      "metadata": {
        "id": "89Cj7xJxPZuK",
        "colab_type": "code",
        "colab": {
          "base_uri": "https://localhost:8080/",
          "height": 458
        },
        "outputId": "43ca7b0c-9842-4387-9724-6c61674a3a80"
      },
      "source": [
        "print(sm.OLS(df3['los'], df3['infect']).fit().summary())"
      ],
      "execution_count": 42,
      "outputs": [
        {
          "output_type": "stream",
          "text": [
            "                                 OLS Regression Results                                \n",
            "=======================================================================================\n",
            "Dep. Variable:                    los   R-squared (uncentered):                   0.920\n",
            "Model:                            OLS   Adj. R-squared (uncentered):              0.917\n",
            "Method:                 Least Squares   F-statistic:                              411.9\n",
            "Date:                Tue, 14 Jan 2020   Prob (F-statistic):                    2.69e-21\n",
            "Time:                        09:23:15   Log-Likelihood:                         -88.253\n",
            "No. Observations:                  37   AIC:                                      178.5\n",
            "Df Residuals:                      36   BIC:                                      180.1\n",
            "Df Model:                           1                                                  \n",
            "Covariance Type:            nonrobust                                                  \n",
            "==============================================================================\n",
            "                 coef    std err          t      P>|t|      [0.025      0.975]\n",
            "------------------------------------------------------------------------------\n",
            "infect         2.1256      0.105     20.296      0.000       1.913       2.338\n",
            "==============================================================================\n",
            "Omnibus:                        0.711   Durbin-Watson:                   2.260\n",
            "Prob(Omnibus):                  0.701   Jarque-Bera (JB):                0.714\n",
            "Skew:                           0.024   Prob(JB):                        0.700\n",
            "Kurtosis:                       2.321   Cond. No.                         1.00\n",
            "==============================================================================\n",
            "\n",
            "Warnings:\n",
            "[1] Standard Errors assume that the covariance matrix of the errors is correctly specified.\n"
          ],
          "name": "stdout"
        }
      ]
    },
    {
      "cell_type": "code",
      "metadata": {
        "id": "z9ktMMy_Pckl",
        "colab_type": "code",
        "colab": {
          "base_uri": "https://localhost:8080/",
          "height": 495
        },
        "outputId": "16be9d7a-8eb2-4c7a-8339-e0338ea70817"
      },
      "source": [
        "print(sm.OLS(df4['los'], df4['infect']).fit().summary())"
      ],
      "execution_count": 43,
      "outputs": [
        {
          "output_type": "stream",
          "text": [
            "                                 OLS Regression Results                                \n",
            "=======================================================================================\n",
            "Dep. Variable:                    los   R-squared (uncentered):                   0.951\n",
            "Model:                            OLS   Adj. R-squared (uncentered):              0.948\n",
            "Method:                 Least Squares   F-statistic:                              290.4\n",
            "Date:                Tue, 14 Jan 2020   Prob (F-statistic):                    3.17e-11\n",
            "Time:                        09:23:15   Log-Likelihood:                         -32.205\n",
            "No. Observations:                  16   AIC:                                      66.41\n",
            "Df Residuals:                      15   BIC:                                      67.18\n",
            "Df Model:                           1                                                  \n",
            "Covariance Type:            nonrobust                                                  \n",
            "==============================================================================\n",
            "                 coef    std err          t      P>|t|      [0.025      0.975]\n",
            "------------------------------------------------------------------------------\n",
            "infect         1.7856      0.105     17.041      0.000       1.562       2.009\n",
            "==============================================================================\n",
            "Omnibus:                        6.527   Durbin-Watson:                   1.474\n",
            "Prob(Omnibus):                  0.038   Jarque-Bera (JB):                3.594\n",
            "Skew:                           1.056   Prob(JB):                        0.166\n",
            "Kurtosis:                       3.966   Cond. No.                         1.00\n",
            "==============================================================================\n",
            "\n",
            "Warnings:\n",
            "[1] Standard Errors assume that the covariance matrix of the errors is correctly specified.\n"
          ],
          "name": "stdout"
        },
        {
          "output_type": "stream",
          "text": [
            "/usr/local/lib/python3.6/dist-packages/scipy/stats/stats.py:1535: UserWarning: kurtosistest only valid for n>=20 ... continuing anyway, n=16\n",
            "  \"anyway, n=%i\" % int(n))\n"
          ],
          "name": "stderr"
        }
      ]
    },
    {
      "cell_type": "markdown",
      "metadata": {
        "id": "rTQre7J1PjDL",
        "colab_type": "text"
      },
      "source": [
        "In the context of the regression model, the coefficients are similar for all three regions except the Western region. \n",
        "\n",
        "\n",
        "---\n",
        "\n",
        "Obtain a separate interval estimate of $\\hat{\\beta}_1$ for each region using a 95% confidence level. Do the regression lines for the different regions appear to have similar slopes?"
      ]
    },
    {
      "cell_type": "code",
      "metadata": {
        "id": "zQj218uKPe9y",
        "colab_type": "code",
        "colab": {}
      },
      "source": [
        "# NE, NC, South, West\n",
        "# conf_int()\n",
        "# params\n",
        "\n",
        "dflst = [df1, df2, df3, df4]\n",
        "\n",
        "dct = {}\n",
        "\n",
        "j=0\n",
        "\n",
        "for i in dflst:\n",
        "    a = sm.OLS(i['los'], i['infect']).fit().conf_int()[0].values[0]\n",
        "    b = sm.OLS(i['los'], i['infect']).fit().conf_int()[1].values[0]\n",
        "    m = sm.OLS(i['los'], i['infect']).fit().params.values[0]\n",
        "    \n",
        "\n",
        "    j += 1\n",
        "\n",
        "    dct[j] = (m, a, b)    "
      ],
      "execution_count": 0,
      "outputs": []
    },
    {
      "cell_type": "code",
      "metadata": {
        "id": "we7uAGNiRWZF",
        "colab_type": "code",
        "colab": {}
      },
      "source": [
        "results = pd.DataFrame(dct).T\n"
      ],
      "execution_count": 0,
      "outputs": []
    },
    {
      "cell_type": "code",
      "metadata": {
        "id": "egYI4CiSRhLL",
        "colab_type": "code",
        "colab": {}
      },
      "source": [
        "results.index = ['NE', 'NC', 'South', 'West']\n",
        "results.columns = ['Slope', 'Low-CI', 'High-CI']"
      ],
      "execution_count": 0,
      "outputs": []
    },
    {
      "cell_type": "code",
      "metadata": {
        "id": "rKRsA6XvS-NH",
        "colab_type": "code",
        "colab": {
          "base_uri": "https://localhost:8080/",
          "height": 175
        },
        "outputId": "5e8b7e4c-5c8c-4003-b6bc-b8138faf1c83"
      },
      "source": [
        "results"
      ],
      "execution_count": 47,
      "outputs": [
        {
          "output_type": "execute_result",
          "data": {
            "text/html": [
              "<div>\n",
              "<style scoped>\n",
              "    .dataframe tbody tr th:only-of-type {\n",
              "        vertical-align: middle;\n",
              "    }\n",
              "\n",
              "    .dataframe tbody tr th {\n",
              "        vertical-align: top;\n",
              "    }\n",
              "\n",
              "    .dataframe thead th {\n",
              "        text-align: right;\n",
              "    }\n",
              "</style>\n",
              "<table border=\"1\" class=\"dataframe\">\n",
              "  <thead>\n",
              "    <tr style=\"text-align: right;\">\n",
              "      <th></th>\n",
              "      <th>Slope</th>\n",
              "      <th>Low-CI</th>\n",
              "      <th>High-CI</th>\n",
              "    </tr>\n",
              "  </thead>\n",
              "  <tbody>\n",
              "    <tr>\n",
              "      <th>NE</th>\n",
              "      <td>2.223579</td>\n",
              "      <td>2.042156</td>\n",
              "      <td>2.405001</td>\n",
              "    </tr>\n",
              "    <tr>\n",
              "      <th>NC</th>\n",
              "      <td>2.061832</td>\n",
              "      <td>1.871304</td>\n",
              "      <td>2.252360</td>\n",
              "    </tr>\n",
              "    <tr>\n",
              "      <th>South</th>\n",
              "      <td>2.125584</td>\n",
              "      <td>1.913185</td>\n",
              "      <td>2.337984</td>\n",
              "    </tr>\n",
              "    <tr>\n",
              "      <th>West</th>\n",
              "      <td>1.785574</td>\n",
              "      <td>1.562237</td>\n",
              "      <td>2.008910</td>\n",
              "    </tr>\n",
              "  </tbody>\n",
              "</table>\n",
              "</div>"
            ],
            "text/plain": [
              "          Slope    Low-CI   High-CI\n",
              "NE     2.223579  2.042156  2.405001\n",
              "NC     2.061832  1.871304  2.252360\n",
              "South  2.125584  1.913185  2.337984\n",
              "West   1.785574  1.562237  2.008910"
            ]
          },
          "metadata": {
            "tags": []
          },
          "execution_count": 47
        }
      ]
    },
    {
      "cell_type": "markdown",
      "metadata": {
        "id": "757rzdFyTN3W",
        "colab_type": "text"
      },
      "source": [
        "The regression lines appear to have similar slopes"
      ]
    },
    {
      "cell_type": "code",
      "metadata": {
        "id": "Dh8ITBoCSzeQ",
        "colab_type": "code",
        "colab": {}
      },
      "source": [
        "mse_lst = []\n",
        "\n",
        "for i in dflst:\n",
        "    mse_lst.append(sm.OLS(i['los'], i['infect']).fit().mse_resid)"
      ],
      "execution_count": 0,
      "outputs": []
    },
    {
      "cell_type": "code",
      "metadata": {
        "id": "TSKzJafITrse",
        "colab_type": "code",
        "colab": {}
      },
      "source": [
        "results['mse_lst'] = mse_lst"
      ],
      "execution_count": 0,
      "outputs": []
    },
    {
      "cell_type": "code",
      "metadata": {
        "id": "6LAMdYz-TtdW",
        "colab_type": "code",
        "colab": {
          "base_uri": "https://localhost:8080/",
          "height": 175
        },
        "outputId": "ef527c98-728c-42a2-a129-1b7cd92c6675"
      },
      "source": [
        "results"
      ],
      "execution_count": 50,
      "outputs": [
        {
          "output_type": "execute_result",
          "data": {
            "text/html": [
              "<div>\n",
              "<style scoped>\n",
              "    .dataframe tbody tr th:only-of-type {\n",
              "        vertical-align: middle;\n",
              "    }\n",
              "\n",
              "    .dataframe tbody tr th {\n",
              "        vertical-align: top;\n",
              "    }\n",
              "\n",
              "    .dataframe thead th {\n",
              "        text-align: right;\n",
              "    }\n",
              "</style>\n",
              "<table border=\"1\" class=\"dataframe\">\n",
              "  <thead>\n",
              "    <tr style=\"text-align: right;\">\n",
              "      <th></th>\n",
              "      <th>Slope</th>\n",
              "      <th>Low-CI</th>\n",
              "      <th>High-CI</th>\n",
              "      <th>mse_lst</th>\n",
              "    </tr>\n",
              "  </thead>\n",
              "  <tbody>\n",
              "    <tr>\n",
              "      <th>NE</th>\n",
              "      <td>2.223579</td>\n",
              "      <td>2.042156</td>\n",
              "      <td>2.405001</td>\n",
              "      <td>5.513061</td>\n",
              "    </tr>\n",
              "    <tr>\n",
              "      <th>NC</th>\n",
              "      <td>2.061832</td>\n",
              "      <td>1.871304</td>\n",
              "      <td>2.252360</td>\n",
              "      <td>5.876404</td>\n",
              "    </tr>\n",
              "    <tr>\n",
              "      <th>South</th>\n",
              "      <td>2.125584</td>\n",
              "      <td>1.913185</td>\n",
              "      <td>2.337984</td>\n",
              "      <td>7.098901</td>\n",
              "    </tr>\n",
              "    <tr>\n",
              "      <th>West</th>\n",
              "      <td>1.785574</td>\n",
              "      <td>1.562237</td>\n",
              "      <td>2.008910</td>\n",
              "      <td>3.498512</td>\n",
              "    </tr>\n",
              "  </tbody>\n",
              "</table>\n",
              "</div>"
            ],
            "text/plain": [
              "          Slope    Low-CI   High-CI   mse_lst\n",
              "NE     2.223579  2.042156  2.405001  5.513061\n",
              "NC     2.061832  1.871304  2.252360  5.876404\n",
              "South  2.125584  1.913185  2.337984  7.098901\n",
              "West   1.785574  1.562237  2.008910  3.498512"
            ]
          },
          "metadata": {
            "tags": []
          },
          "execution_count": 50
        }
      ]
    },
    {
      "cell_type": "markdown",
      "metadata": {
        "id": "_l6LX3mNTxl7",
        "colab_type": "text"
      },
      "source": [
        "The variabilty around the fitted regression line is larger in the South and smaller in the West.\n",
        "\n",
        "\n",
        "\n",
        "---\n",
        "For each geographic region, produce a residual plot against X and a normal probability plot of residuals. Do the four regions appear to have similar error variances? What other conclusions do you draw from your plots?\n"
      ]
    },
    {
      "cell_type": "code",
      "metadata": {
        "id": "26IUtMpATtwO",
        "colab_type": "code",
        "colab": {
          "base_uri": "https://localhost:8080/",
          "height": 303
        },
        "outputId": "91d5f140-fee9-4177-ecab-5acf82281a64"
      },
      "source": [
        "sns.residplot(x=\"infect\", y=\"los\", data=df1)"
      ],
      "execution_count": 51,
      "outputs": [
        {
          "output_type": "execute_result",
          "data": {
            "text/plain": [
              "<matplotlib.axes._subplots.AxesSubplot at 0x7fcff36cd240>"
            ]
          },
          "metadata": {
            "tags": []
          },
          "execution_count": 51
        },
        {
          "output_type": "display_data",
          "data": {
            "image/png": "[encoded data removed]",
            "text/plain": [
              "<Figure size 432x288 with 1 Axes>"
            ]
          },
          "metadata": {
            "tags": []
          }
        }
      ]
    },
    {
      "cell_type": "code",
      "metadata": {
        "id": "ZQ3Eym1lUY-q",
        "colab_type": "code",
        "colab": {
          "base_uri": "https://localhost:8080/",
          "height": 301
        },
        "outputId": "48425ead-4171-4421-e5b4-804f630c4d99"
      },
      "source": [
        "trash_tuple = stats.probplot(x=sm.OLS(df1['los'], df1['infect']).fit().resid, plot=sns.mpl.pyplot, fit=True)"
      ],
      "execution_count": 52,
      "outputs": [
        {
          "output_type": "display_data",
          "data": {
            "image/png": "[encoded data removed]",
            "text/plain": [
              "<Figure size 432x288 with 1 Axes>"
            ]
          },
          "metadata": {
            "tags": []
          }
        }
      ]
    },
    {
      "cell_type": "code",
      "metadata": {
        "id": "qy7-_J67UcbZ",
        "colab_type": "code",
        "colab": {
          "base_uri": "https://localhost:8080/",
          "height": 305
        },
        "outputId": "3ce5843e-c8ab-4ece-bd15-3fe9ddb17f64"
      },
      "source": [
        "sns.residplot(x=\"infect\", y=\"los\", data=df2)"
      ],
      "execution_count": 53,
      "outputs": [
        {
          "output_type": "execute_result",
          "data": {
            "text/plain": [
              "<matplotlib.axes._subplots.AxesSubplot at 0x7fcff356cc18>"
            ]
          },
          "metadata": {
            "tags": []
          },
          "execution_count": 53
        },
        {
          "output_type": "display_data",
          "data": {
            "image/png": "[encoded data removed]",
            "text/plain": [
              "<Figure size 432x288 with 1 Axes>"
            ]
          },
          "metadata": {
            "tags": []
          }
        }
      ]
    },
    {
      "cell_type": "code",
      "metadata": {
        "id": "WSWxeIIrUgtN",
        "colab_type": "code",
        "colab": {
          "base_uri": "https://localhost:8080/",
          "height": 301
        },
        "outputId": "716abb3e-6cdc-412f-a55e-05d227fcdecf"
      },
      "source": [
        "trash_tuple = stats.probplot(x=sm.OLS(df2['los'], df2['infect']).fit().resid, plot=sns.mpl.pyplot, fit=True)"
      ],
      "execution_count": 54,
      "outputs": [
        {
          "output_type": "display_data",
          "data": {
            "image/png": "[encoded data removed]",
            "text/plain": [
              "<Figure size 432x288 with 1 Axes>"
            ]
          },
          "metadata": {
            "tags": []
          }
        }
      ]
    },
    {
      "cell_type": "code",
      "metadata": {
        "id": "J_BP33TSUoUq",
        "colab_type": "code",
        "colab": {
          "base_uri": "https://localhost:8080/",
          "height": 303
        },
        "outputId": "2c2af492-19e7-4e82-ce06-8397c766141e"
      },
      "source": [
        "sns.residplot(x=\"infect\", y=\"los\", data=df3)"
      ],
      "execution_count": 55,
      "outputs": [
        {
          "output_type": "execute_result",
          "data": {
            "text/plain": [
              "<matplotlib.axes._subplots.AxesSubplot at 0x7fcff34cac88>"
            ]
          },
          "metadata": {
            "tags": []
          },
          "execution_count": 55
        },
        {
          "output_type": "display_data",
          "data": {
            "image/png": "[encoded data removed]",
            "text/plain": [
              "<Figure size 432x288 with 1 Axes>"
            ]
          },
          "metadata": {
            "tags": []
          }
        }
      ]
    },
    {
      "cell_type": "code",
      "metadata": {
        "id": "Rc0LltnZUjNY",
        "colab_type": "code",
        "colab": {
          "base_uri": "https://localhost:8080/",
          "height": 301
        },
        "outputId": "4af93b23-6c6c-4e00-8a1b-0e254679a79b"
      },
      "source": [
        "trash_tuple = stats.probplot(x=sm.OLS(df3['los'], df3['infect']).fit().resid, plot=sns.mpl.pyplot, fit=True)"
      ],
      "execution_count": 56,
      "outputs": [
        {
          "output_type": "display_data",
          "data": {
            "image/png": "[encoded data removed]",
            "text/plain": [
              "<Figure size 432x288 with 1 Axes>"
            ]
          },
          "metadata": {
            "tags": []
          }
        }
      ]
    },
    {
      "cell_type": "code",
      "metadata": {
        "id": "DDKGySG5UqAJ",
        "colab_type": "code",
        "colab": {
          "base_uri": "https://localhost:8080/",
          "height": 303
        },
        "outputId": "dd1604db-f48a-4180-9023-218317ea48bb"
      },
      "source": [
        "sns.residplot(x=\"infect\", y=\"los\", data=df4)"
      ],
      "execution_count": 57,
      "outputs": [
        {
          "output_type": "execute_result",
          "data": {
            "text/plain": [
              "<matplotlib.axes._subplots.AxesSubplot at 0x7fcff34077b8>"
            ]
          },
          "metadata": {
            "tags": []
          },
          "execution_count": 57
        },
        {
          "output_type": "display_data",
          "data": {
            "image/png": "[encoded data removed]",
            "text/plain": [
              "<Figure size 432x288 with 1 Axes>"
            ]
          },
          "metadata": {
            "tags": []
          }
        }
      ]
    },
    {
      "cell_type": "code",
      "metadata": {
        "id": "wtY0LWHNUkqE",
        "colab_type": "code",
        "colab": {
          "base_uri": "https://localhost:8080/",
          "height": 301
        },
        "outputId": "1f559ceb-d5ed-4b78-e543-8bead1af41c0"
      },
      "source": [
        "trash_tuple = stats.probplot(x=sm.OLS(df4['los'], df4['infect']).fit().resid, plot=sns.mpl.pyplot, fit=True)"
      ],
      "execution_count": 58,
      "outputs": [
        {
          "output_type": "display_data",
          "data": {
            "image/png": "[encoded data removed]",
            "text/plain": [
              "<Figure size 432x288 with 1 Axes>"
            ]
          },
          "metadata": {
            "tags": []
          }
        }
      ]
    },
    {
      "cell_type": "markdown",
      "metadata": {
        "id": "5knftFrQVHlB",
        "colab_type": "text"
      },
      "source": [
        "No, the four regions do not appear as if they have similar error variances. I would conclude that individually the regions do not appear as if they appear normal. However, if we unstratify by region and collapse the data then the assumption of normality is more believable. If there is a strong suspicion that stratification by region is important, then I would set a random intercept by region for my model, based on what the boxplot looks like."
      ]
    },
    {
      "cell_type": "code",
      "metadata": {
        "id": "4cqwNJhiXEEK",
        "colab_type": "code",
        "colab": {}
      },
      "source": [
        ""
      ],
      "execution_count": 0,
      "outputs": []
    }
  ]
}